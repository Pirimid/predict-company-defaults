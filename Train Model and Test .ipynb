{
 "cells": [
  {
   "cell_type": "code",
   "execution_count": 1,
   "metadata": {},
   "outputs": [],
   "source": [
    "import random\n",
    "import numpy as np\n",
    "import pandas as pd\n",
    "from sklearn.linear_model import LogisticRegression\n",
    "from sklearn.model_selection import train_test_split\n",
    "from sklearn.metrics import f1_score, accuracy_score, classification_report\n",
    "from sklearn.discriminant_analysis import LinearDiscriminantAnalysis, QuadraticDiscriminantAnalysis"
   ]
  },
  {
   "cell_type": "code",
   "execution_count": 2,
   "metadata": {},
   "outputs": [],
   "source": [
    "random.seed(42)"
   ]
  },
  {
   "cell_type": "code",
   "execution_count": 3,
   "metadata": {},
   "outputs": [
    {
     "data": {
      "text/html": [
       "<div>\n",
       "<style scoped>\n",
       "    .dataframe tbody tr th:only-of-type {\n",
       "        vertical-align: middle;\n",
       "    }\n",
       "\n",
       "    .dataframe tbody tr th {\n",
       "        vertical-align: top;\n",
       "    }\n",
       "\n",
       "    .dataframe thead th {\n",
       "        text-align: right;\n",
       "    }\n",
       "</style>\n",
       "<table border=\"1\" class=\"dataframe\">\n",
       "  <thead>\n",
       "    <tr style=\"text-align: right;\">\n",
       "      <th></th>\n",
       "      <th>Identifier (RIC)</th>\n",
       "      <th>Company Name</th>\n",
       "      <th>Company Name Date of Insolvency</th>\n",
       "      <th>Company Name Score</th>\n",
       "      <th>Revenue (INR) In the last 15 FY</th>\n",
       "      <th>Revenue (INR) In the last 15 FY FY-1</th>\n",
       "      <th>Revenue (INR) In the last 15 FY FY-2</th>\n",
       "      <th>Revenue (INR) In the last 15 FY FY-3</th>\n",
       "      <th>Revenue (INR) In the last 15 FY FY-4</th>\n",
       "      <th>Revenue (INR) In the last 15 FY FY-5</th>\n",
       "      <th>...</th>\n",
       "      <th>OCF/Debt FY-9</th>\n",
       "      <th>OCF/Debt FY-10</th>\n",
       "      <th>OCF/Debt FY-11</th>\n",
       "      <th>OCF/Debt FY-12</th>\n",
       "      <th>OCF/Debt FY-13</th>\n",
       "      <th>OCF/Debt FY-14</th>\n",
       "      <th>Loss in past 2 years</th>\n",
       "      <th>Negative owners equity</th>\n",
       "      <th>Z Score</th>\n",
       "      <th>Discrimination</th>\n",
       "    </tr>\n",
       "  </thead>\n",
       "  <tbody>\n",
       "    <tr>\n",
       "      <th>0</th>\n",
       "      <td>TATS.NS</td>\n",
       "      <td>Tata Steel BSL Ltd</td>\n",
       "      <td>26-07-2017</td>\n",
       "      <td>1</td>\n",
       "      <td>20,89,160.40</td>\n",
       "      <td>17,40,442.80</td>\n",
       "      <td>15,02,730.20</td>\n",
       "      <td>13,12,406.80</td>\n",
       "      <td>10,64,577.10</td>\n",
       "      <td>9,67,583.30</td>\n",
       "      <td>...</td>\n",
       "      <td>0</td>\n",
       "      <td>0</td>\n",
       "      <td>0</td>\n",
       "      <td>0</td>\n",
       "      <td>0</td>\n",
       "      <td>0</td>\n",
       "      <td>0.0</td>\n",
       "      <td>0.0</td>\n",
       "      <td>-3.478192</td>\n",
       "      <td>Distress Zone</td>\n",
       "    </tr>\n",
       "    <tr>\n",
       "      <th>1</th>\n",
       "      <td>SNTX.NS</td>\n",
       "      <td>Sintex Industries Ltd</td>\n",
       "      <td>18-09-2019</td>\n",
       "      <td>1</td>\n",
       "      <td>3,25,695.00</td>\n",
       "      <td>2,87,268.00</td>\n",
       "      <td>1,92,132.00</td>\n",
       "      <td>94,086.00</td>\n",
       "      <td>7,00,661.00</td>\n",
       "      <td>5,84,262.00</td>\n",
       "      <td>...</td>\n",
       "      <td>0</td>\n",
       "      <td>0</td>\n",
       "      <td>0</td>\n",
       "      <td>0</td>\n",
       "      <td>0</td>\n",
       "      <td>0</td>\n",
       "      <td>0.0</td>\n",
       "      <td>0.0</td>\n",
       "      <td>1.737835</td>\n",
       "      <td>Distress Zone</td>\n",
       "    </tr>\n",
       "    <tr>\n",
       "      <th>2</th>\n",
       "      <td>VTL.NZ</td>\n",
       "      <td>Vital Ltd</td>\n",
       "      <td>13-06-2019</td>\n",
       "      <td>1</td>\n",
       "      <td>16,101.40</td>\n",
       "      <td>15,846.00</td>\n",
       "      <td>16,130.10</td>\n",
       "      <td>15,843.50</td>\n",
       "      <td>24,850.60</td>\n",
       "      <td>31,703.10</td>\n",
       "      <td>...</td>\n",
       "      <td>0</td>\n",
       "      <td>0</td>\n",
       "      <td>0</td>\n",
       "      <td>0</td>\n",
       "      <td>0</td>\n",
       "      <td>0</td>\n",
       "      <td>0.0</td>\n",
       "      <td>0.0</td>\n",
       "      <td>1.612491</td>\n",
       "      <td>Distress Zone</td>\n",
       "    </tr>\n",
       "    <tr>\n",
       "      <th>3</th>\n",
       "      <td>IVRC.NS</td>\n",
       "      <td>IVRCL Ltd</td>\n",
       "      <td>08-11-2019</td>\n",
       "      <td>1</td>\n",
       "      <td>1,25,262.90</td>\n",
       "      <td>1,90,446.20</td>\n",
       "      <td>2,59,748.10</td>\n",
       "      <td>2,99,642.00</td>\n",
       "      <td>3,81,953.90</td>\n",
       "      <td>4,94,470.30</td>\n",
       "      <td>...</td>\n",
       "      <td>0</td>\n",
       "      <td>0</td>\n",
       "      <td>0</td>\n",
       "      <td>0</td>\n",
       "      <td>0</td>\n",
       "      <td>0</td>\n",
       "      <td>1.0</td>\n",
       "      <td>1.0</td>\n",
       "      <td>-0.536752</td>\n",
       "      <td>Distress Zone</td>\n",
       "    </tr>\n",
       "    <tr>\n",
       "      <th>4</th>\n",
       "      <td>BILT.NS</td>\n",
       "      <td>Ballarpur Industries Ltd</td>\n",
       "      <td>17-04-2019</td>\n",
       "      <td>1</td>\n",
       "      <td>3,64,306.00</td>\n",
       "      <td>2,54,614.00</td>\n",
       "      <td>2,17,128.00</td>\n",
       "      <td>4,47,297.00</td>\n",
       "      <td>3,23,863.00</td>\n",
       "      <td>5,28,458.00</td>\n",
       "      <td>...</td>\n",
       "      <td>0</td>\n",
       "      <td>0</td>\n",
       "      <td>0</td>\n",
       "      <td>0</td>\n",
       "      <td>0</td>\n",
       "      <td>0</td>\n",
       "      <td>1.0</td>\n",
       "      <td>1.0</td>\n",
       "      <td>-0.599970</td>\n",
       "      <td>Distress Zone</td>\n",
       "    </tr>\n",
       "  </tbody>\n",
       "</table>\n",
       "<p>5 rows × 863 columns</p>\n",
       "</div>"
      ],
      "text/plain": [
       "  Identifier (RIC)              Company Name Company Name Date of Insolvency  \\\n",
       "0          TATS.NS        Tata Steel BSL Ltd                      26-07-2017   \n",
       "1          SNTX.NS     Sintex Industries Ltd                      18-09-2019   \n",
       "2           VTL.NZ                 Vital Ltd                      13-06-2019   \n",
       "3          IVRC.NS                 IVRCL Ltd                      08-11-2019   \n",
       "4          BILT.NS  Ballarpur Industries Ltd                      17-04-2019   \n",
       "\n",
       "   Company Name Score Revenue (INR) In the last 15 FY  \\\n",
       "0                   1                    20,89,160.40   \n",
       "1                   1                     3,25,695.00   \n",
       "2                   1                       16,101.40   \n",
       "3                   1                     1,25,262.90   \n",
       "4                   1                     3,64,306.00   \n",
       "\n",
       "  Revenue (INR) In the last 15 FY FY-1 Revenue (INR) In the last 15 FY FY-2  \\\n",
       "0                         17,40,442.80                         15,02,730.20   \n",
       "1                          2,87,268.00                          1,92,132.00   \n",
       "2                            15,846.00                            16,130.10   \n",
       "3                          1,90,446.20                          2,59,748.10   \n",
       "4                          2,54,614.00                          2,17,128.00   \n",
       "\n",
       "  Revenue (INR) In the last 15 FY FY-3 Revenue (INR) In the last 15 FY FY-4  \\\n",
       "0                         13,12,406.80                         10,64,577.10   \n",
       "1                            94,086.00                          7,00,661.00   \n",
       "2                            15,843.50                            24,850.60   \n",
       "3                          2,99,642.00                          3,81,953.90   \n",
       "4                          4,47,297.00                          3,23,863.00   \n",
       "\n",
       "  Revenue (INR) In the last 15 FY FY-5  ... OCF/Debt FY-9 OCF/Debt FY-10  \\\n",
       "0                          9,67,583.30  ...             0              0   \n",
       "1                          5,84,262.00  ...             0              0   \n",
       "2                            31,703.10  ...             0              0   \n",
       "3                          4,94,470.30  ...             0              0   \n",
       "4                          5,28,458.00  ...             0              0   \n",
       "\n",
       "  OCF/Debt FY-11 OCF/Debt FY-12 OCF/Debt FY-13 OCF/Debt FY-14  \\\n",
       "0              0              0              0              0   \n",
       "1              0              0              0              0   \n",
       "2              0              0              0              0   \n",
       "3              0              0              0              0   \n",
       "4              0              0              0              0   \n",
       "\n",
       "  Loss in past 2 years  Negative owners equity   Z Score Discrimination  \n",
       "0                   0.0                    0.0 -3.478192  Distress Zone  \n",
       "1                   0.0                    0.0  1.737835  Distress Zone  \n",
       "2                   0.0                    0.0  1.612491  Distress Zone  \n",
       "3                   1.0                    1.0 -0.536752  Distress Zone  \n",
       "4                   1.0                    1.0 -0.599970  Distress Zone  \n",
       "\n",
       "[5 rows x 863 columns]"
      ]
     },
     "execution_count": 3,
     "metadata": {},
     "output_type": "execute_result"
    }
   ],
   "source": [
    "df = pd.read_csv('data/z_score_data.csv')\n",
    "df.head()"
   ]
  },
  {
   "cell_type": "code",
   "execution_count": 4,
   "metadata": {},
   "outputs": [
    {
     "data": {
      "text/html": [
       "<div>\n",
       "<style scoped>\n",
       "    .dataframe tbody tr th:only-of-type {\n",
       "        vertical-align: middle;\n",
       "    }\n",
       "\n",
       "    .dataframe tbody tr th {\n",
       "        vertical-align: top;\n",
       "    }\n",
       "\n",
       "    .dataframe thead th {\n",
       "        text-align: right;\n",
       "    }\n",
       "</style>\n",
       "<table border=\"1\" class=\"dataframe\">\n",
       "  <thead>\n",
       "    <tr style=\"text-align: right;\">\n",
       "      <th></th>\n",
       "      <th>Company Name Score</th>\n",
       "      <th>Market Capitalisation (INR) In the last 15 FY</th>\n",
       "      <th>Market Capitalisation (INR) In the last 15 FY FY-1</th>\n",
       "      <th>Market Capitalisation (INR) In the last 15 FY FY-2</th>\n",
       "      <th>Market Capitalisation (INR) In the last 15 FY FY-3</th>\n",
       "      <th>Market Capitalisation (INR) In the last 15 FY FY-4</th>\n",
       "      <th>Market Capitalisation (INR) In the last 15 FY FY-5</th>\n",
       "      <th>Market Capitalisation (INR) In the last 15 FY FY-6</th>\n",
       "      <th>Market Capitalisation (INR) In the last 15 FY FY-7</th>\n",
       "      <th>Market Capitalisation (INR) In the last 15 FY FY-8</th>\n",
       "      <th>...</th>\n",
       "      <th>Pretax ROA (%) In the last 15 FY.1 FY-11</th>\n",
       "      <th>Pretax ROA (%) In the last 15 FY.1 FY-12</th>\n",
       "      <th>Pretax ROA (%) In the last 15 FY.1 FY-13</th>\n",
       "      <th>Pretax ROA (%) In the last 15 FY.1 FY-14</th>\n",
       "      <th>Avg</th>\n",
       "      <th>Working capital/total assets  FY-1</th>\n",
       "      <th>Avg ocf/debt</th>\n",
       "      <th>Loss in past 2 years</th>\n",
       "      <th>Negative owners equity</th>\n",
       "      <th>Z Score</th>\n",
       "    </tr>\n",
       "  </thead>\n",
       "  <tbody>\n",
       "    <tr>\n",
       "      <th>count</th>\n",
       "      <td>148.000000</td>\n",
       "      <td>148.0</td>\n",
       "      <td>148.0</td>\n",
       "      <td>148.0</td>\n",
       "      <td>148.0</td>\n",
       "      <td>148.0</td>\n",
       "      <td>148.0</td>\n",
       "      <td>148.0</td>\n",
       "      <td>148.0</td>\n",
       "      <td>148.0</td>\n",
       "      <td>...</td>\n",
       "      <td>148.000000</td>\n",
       "      <td>148.000000</td>\n",
       "      <td>148.000000</td>\n",
       "      <td>148.000000</td>\n",
       "      <td>148.000000</td>\n",
       "      <td>148.000000</td>\n",
       "      <td>148.000000</td>\n",
       "      <td>148.000000</td>\n",
       "      <td>148.000000</td>\n",
       "      <td>148.000000</td>\n",
       "    </tr>\n",
       "    <tr>\n",
       "      <th>mean</th>\n",
       "      <td>0.567568</td>\n",
       "      <td>0.0</td>\n",
       "      <td>0.0</td>\n",
       "      <td>0.0</td>\n",
       "      <td>0.0</td>\n",
       "      <td>0.0</td>\n",
       "      <td>0.0</td>\n",
       "      <td>0.0</td>\n",
       "      <td>0.0</td>\n",
       "      <td>0.0</td>\n",
       "      <td>...</td>\n",
       "      <td>0.068243</td>\n",
       "      <td>0.052703</td>\n",
       "      <td>0.043919</td>\n",
       "      <td>0.045270</td>\n",
       "      <td>-0.469595</td>\n",
       "      <td>-0.687162</td>\n",
       "      <td>0.640878</td>\n",
       "      <td>0.513514</td>\n",
       "      <td>0.594595</td>\n",
       "      <td>-24.581444</td>\n",
       "    </tr>\n",
       "    <tr>\n",
       "      <th>std</th>\n",
       "      <td>0.497096</td>\n",
       "      <td>0.0</td>\n",
       "      <td>0.0</td>\n",
       "      <td>0.0</td>\n",
       "      <td>0.0</td>\n",
       "      <td>0.0</td>\n",
       "      <td>0.0</td>\n",
       "      <td>0.0</td>\n",
       "      <td>0.0</td>\n",
       "      <td>0.0</td>\n",
       "      <td>...</td>\n",
       "      <td>0.106928</td>\n",
       "      <td>0.088407</td>\n",
       "      <td>0.078443</td>\n",
       "      <td>0.099887</td>\n",
       "      <td>1.626551</td>\n",
       "      <td>2.527866</td>\n",
       "      <td>6.236989</td>\n",
       "      <td>0.501515</td>\n",
       "      <td>0.492637</td>\n",
       "      <td>298.773039</td>\n",
       "    </tr>\n",
       "    <tr>\n",
       "      <th>min</th>\n",
       "      <td>0.000000</td>\n",
       "      <td>0.0</td>\n",
       "      <td>0.0</td>\n",
       "      <td>0.0</td>\n",
       "      <td>0.0</td>\n",
       "      <td>0.0</td>\n",
       "      <td>0.0</td>\n",
       "      <td>0.0</td>\n",
       "      <td>0.0</td>\n",
       "      <td>0.0</td>\n",
       "      <td>...</td>\n",
       "      <td>-0.100000</td>\n",
       "      <td>-0.100000</td>\n",
       "      <td>-0.200000</td>\n",
       "      <td>0.000000</td>\n",
       "      <td>-11.600000</td>\n",
       "      <td>-21.700000</td>\n",
       "      <td>-0.740000</td>\n",
       "      <td>0.000000</td>\n",
       "      <td>0.000000</td>\n",
       "      <td>-3634.654690</td>\n",
       "    </tr>\n",
       "    <tr>\n",
       "      <th>25%</th>\n",
       "      <td>0.000000</td>\n",
       "      <td>0.0</td>\n",
       "      <td>0.0</td>\n",
       "      <td>0.0</td>\n",
       "      <td>0.0</td>\n",
       "      <td>0.0</td>\n",
       "      <td>0.0</td>\n",
       "      <td>0.0</td>\n",
       "      <td>0.0</td>\n",
       "      <td>0.0</td>\n",
       "      <td>...</td>\n",
       "      <td>0.000000</td>\n",
       "      <td>0.000000</td>\n",
       "      <td>0.000000</td>\n",
       "      <td>0.000000</td>\n",
       "      <td>-0.300000</td>\n",
       "      <td>-0.525000</td>\n",
       "      <td>0.000000</td>\n",
       "      <td>0.000000</td>\n",
       "      <td>0.000000</td>\n",
       "      <td>-0.659982</td>\n",
       "    </tr>\n",
       "    <tr>\n",
       "      <th>50%</th>\n",
       "      <td>1.000000</td>\n",
       "      <td>0.0</td>\n",
       "      <td>0.0</td>\n",
       "      <td>0.0</td>\n",
       "      <td>0.0</td>\n",
       "      <td>0.0</td>\n",
       "      <td>0.0</td>\n",
       "      <td>0.0</td>\n",
       "      <td>0.0</td>\n",
       "      <td>0.0</td>\n",
       "      <td>...</td>\n",
       "      <td>0.000000</td>\n",
       "      <td>0.000000</td>\n",
       "      <td>0.000000</td>\n",
       "      <td>0.000000</td>\n",
       "      <td>0.000000</td>\n",
       "      <td>0.000000</td>\n",
       "      <td>0.000000</td>\n",
       "      <td>1.000000</td>\n",
       "      <td>1.000000</td>\n",
       "      <td>0.256556</td>\n",
       "    </tr>\n",
       "    <tr>\n",
       "      <th>75%</th>\n",
       "      <td>1.000000</td>\n",
       "      <td>0.0</td>\n",
       "      <td>0.0</td>\n",
       "      <td>0.0</td>\n",
       "      <td>0.0</td>\n",
       "      <td>0.0</td>\n",
       "      <td>0.0</td>\n",
       "      <td>0.0</td>\n",
       "      <td>0.0</td>\n",
       "      <td>0.0</td>\n",
       "      <td>...</td>\n",
       "      <td>0.100000</td>\n",
       "      <td>0.100000</td>\n",
       "      <td>0.100000</td>\n",
       "      <td>0.100000</td>\n",
       "      <td>0.100000</td>\n",
       "      <td>0.100000</td>\n",
       "      <td>0.022500</td>\n",
       "      <td>1.000000</td>\n",
       "      <td>1.000000</td>\n",
       "      <td>1.059426</td>\n",
       "    </tr>\n",
       "    <tr>\n",
       "      <th>max</th>\n",
       "      <td>1.000000</td>\n",
       "      <td>0.0</td>\n",
       "      <td>0.0</td>\n",
       "      <td>0.0</td>\n",
       "      <td>0.0</td>\n",
       "      <td>0.0</td>\n",
       "      <td>0.0</td>\n",
       "      <td>0.0</td>\n",
       "      <td>0.0</td>\n",
       "      <td>0.0</td>\n",
       "      <td>...</td>\n",
       "      <td>0.600000</td>\n",
       "      <td>0.500000</td>\n",
       "      <td>0.300000</td>\n",
       "      <td>0.700000</td>\n",
       "      <td>0.700000</td>\n",
       "      <td>0.600000</td>\n",
       "      <td>75.110000</td>\n",
       "      <td>1.000000</td>\n",
       "      <td>1.000000</td>\n",
       "      <td>6.844779</td>\n",
       "    </tr>\n",
       "  </tbody>\n",
       "</table>\n",
       "<p>8 rows × 173 columns</p>\n",
       "</div>"
      ],
      "text/plain": [
       "       Company Name Score  Market Capitalisation (INR) In the last 15 FY  \\\n",
       "count          148.000000                                          148.0   \n",
       "mean             0.567568                                            0.0   \n",
       "std              0.497096                                            0.0   \n",
       "min              0.000000                                            0.0   \n",
       "25%              0.000000                                            0.0   \n",
       "50%              1.000000                                            0.0   \n",
       "75%              1.000000                                            0.0   \n",
       "max              1.000000                                            0.0   \n",
       "\n",
       "       Market Capitalisation (INR) In the last 15 FY FY-1  \\\n",
       "count                                              148.0    \n",
       "mean                                                 0.0    \n",
       "std                                                  0.0    \n",
       "min                                                  0.0    \n",
       "25%                                                  0.0    \n",
       "50%                                                  0.0    \n",
       "75%                                                  0.0    \n",
       "max                                                  0.0    \n",
       "\n",
       "       Market Capitalisation (INR) In the last 15 FY FY-2  \\\n",
       "count                                              148.0    \n",
       "mean                                                 0.0    \n",
       "std                                                  0.0    \n",
       "min                                                  0.0    \n",
       "25%                                                  0.0    \n",
       "50%                                                  0.0    \n",
       "75%                                                  0.0    \n",
       "max                                                  0.0    \n",
       "\n",
       "       Market Capitalisation (INR) In the last 15 FY FY-3  \\\n",
       "count                                              148.0    \n",
       "mean                                                 0.0    \n",
       "std                                                  0.0    \n",
       "min                                                  0.0    \n",
       "25%                                                  0.0    \n",
       "50%                                                  0.0    \n",
       "75%                                                  0.0    \n",
       "max                                                  0.0    \n",
       "\n",
       "       Market Capitalisation (INR) In the last 15 FY FY-4  \\\n",
       "count                                              148.0    \n",
       "mean                                                 0.0    \n",
       "std                                                  0.0    \n",
       "min                                                  0.0    \n",
       "25%                                                  0.0    \n",
       "50%                                                  0.0    \n",
       "75%                                                  0.0    \n",
       "max                                                  0.0    \n",
       "\n",
       "       Market Capitalisation (INR) In the last 15 FY FY-5  \\\n",
       "count                                              148.0    \n",
       "mean                                                 0.0    \n",
       "std                                                  0.0    \n",
       "min                                                  0.0    \n",
       "25%                                                  0.0    \n",
       "50%                                                  0.0    \n",
       "75%                                                  0.0    \n",
       "max                                                  0.0    \n",
       "\n",
       "       Market Capitalisation (INR) In the last 15 FY FY-6  \\\n",
       "count                                              148.0    \n",
       "mean                                                 0.0    \n",
       "std                                                  0.0    \n",
       "min                                                  0.0    \n",
       "25%                                                  0.0    \n",
       "50%                                                  0.0    \n",
       "75%                                                  0.0    \n",
       "max                                                  0.0    \n",
       "\n",
       "       Market Capitalisation (INR) In the last 15 FY FY-7  \\\n",
       "count                                              148.0    \n",
       "mean                                                 0.0    \n",
       "std                                                  0.0    \n",
       "min                                                  0.0    \n",
       "25%                                                  0.0    \n",
       "50%                                                  0.0    \n",
       "75%                                                  0.0    \n",
       "max                                                  0.0    \n",
       "\n",
       "       Market Capitalisation (INR) In the last 15 FY FY-8  ...  \\\n",
       "count                                              148.0   ...   \n",
       "mean                                                 0.0   ...   \n",
       "std                                                  0.0   ...   \n",
       "min                                                  0.0   ...   \n",
       "25%                                                  0.0   ...   \n",
       "50%                                                  0.0   ...   \n",
       "75%                                                  0.0   ...   \n",
       "max                                                  0.0   ...   \n",
       "\n",
       "       Pretax ROA (%) In the last 15 FY.1 FY-11  \\\n",
       "count                                148.000000   \n",
       "mean                                   0.068243   \n",
       "std                                    0.106928   \n",
       "min                                   -0.100000   \n",
       "25%                                    0.000000   \n",
       "50%                                    0.000000   \n",
       "75%                                    0.100000   \n",
       "max                                    0.600000   \n",
       "\n",
       "       Pretax ROA (%) In the last 15 FY.1 FY-12  \\\n",
       "count                                148.000000   \n",
       "mean                                   0.052703   \n",
       "std                                    0.088407   \n",
       "min                                   -0.100000   \n",
       "25%                                    0.000000   \n",
       "50%                                    0.000000   \n",
       "75%                                    0.100000   \n",
       "max                                    0.500000   \n",
       "\n",
       "       Pretax ROA (%) In the last 15 FY.1 FY-13  \\\n",
       "count                                148.000000   \n",
       "mean                                   0.043919   \n",
       "std                                    0.078443   \n",
       "min                                   -0.200000   \n",
       "25%                                    0.000000   \n",
       "50%                                    0.000000   \n",
       "75%                                    0.100000   \n",
       "max                                    0.300000   \n",
       "\n",
       "       Pretax ROA (%) In the last 15 FY.1 FY-14         Avg  \\\n",
       "count                                148.000000  148.000000   \n",
       "mean                                   0.045270   -0.469595   \n",
       "std                                    0.099887    1.626551   \n",
       "min                                    0.000000  -11.600000   \n",
       "25%                                    0.000000   -0.300000   \n",
       "50%                                    0.000000    0.000000   \n",
       "75%                                    0.100000    0.100000   \n",
       "max                                    0.700000    0.700000   \n",
       "\n",
       "       Working capital/total assets  FY-1  Avg ocf/debt  \\\n",
       "count                          148.000000    148.000000   \n",
       "mean                            -0.687162      0.640878   \n",
       "std                              2.527866      6.236989   \n",
       "min                            -21.700000     -0.740000   \n",
       "25%                             -0.525000      0.000000   \n",
       "50%                              0.000000      0.000000   \n",
       "75%                              0.100000      0.022500   \n",
       "max                              0.600000     75.110000   \n",
       "\n",
       "       Loss in past 2 years   Negative owners equity      Z Score  \n",
       "count             148.000000              148.000000   148.000000  \n",
       "mean                0.513514                0.594595   -24.581444  \n",
       "std                 0.501515                0.492637   298.773039  \n",
       "min                 0.000000                0.000000 -3634.654690  \n",
       "25%                 0.000000                0.000000    -0.659982  \n",
       "50%                 1.000000                1.000000     0.256556  \n",
       "75%                 1.000000                1.000000     1.059426  \n",
       "max                 1.000000                1.000000     6.844779  \n",
       "\n",
       "[8 rows x 173 columns]"
      ]
     },
     "execution_count": 4,
     "metadata": {},
     "output_type": "execute_result"
    }
   ],
   "source": [
    "df.describe()"
   ]
  },
  {
   "cell_type": "code",
   "execution_count": 5,
   "metadata": {},
   "outputs": [
    {
     "data": {
      "text/plain": [
       "(148, 863)"
      ]
     },
     "execution_count": 5,
     "metadata": {},
     "output_type": "execute_result"
    }
   ],
   "source": [
    "df.shape"
   ]
  },
  {
   "cell_type": "code",
   "execution_count": 6,
   "metadata": {},
   "outputs": [],
   "source": [
    "labels = df['Company Name Score'].values"
   ]
  },
  {
   "cell_type": "code",
   "execution_count": 7,
   "metadata": {},
   "outputs": [
    {
     "data": {
      "text/plain": [
       "array([1, 1, 1, 1, 1], dtype=int64)"
      ]
     },
     "execution_count": 7,
     "metadata": {},
     "output_type": "execute_result"
    }
   ],
   "source": [
    "labels[0:5]"
   ]
  },
  {
   "cell_type": "code",
   "execution_count": 8,
   "metadata": {},
   "outputs": [
    {
     "data": {
      "text/plain": [
       "(148, 858)"
      ]
     },
     "execution_count": 8,
     "metadata": {},
     "output_type": "execute_result"
    }
   ],
   "source": [
    "df.drop(['Identifier (RIC)', 'Company Name', 'Company Name Date of Insolvency', 'Company Name Score',\n",
    "         'Discrimination'], axis=1, inplace=True)\n",
    "df.shape"
   ]
  },
  {
   "cell_type": "markdown",
   "metadata": {},
   "source": [
    "### Data Preparation"
   ]
  },
  {
   "cell_type": "code",
   "execution_count": 9,
   "metadata": {
    "scrolled": false
   },
   "outputs": [
    {
     "name": "stdout",
     "output_type": "stream",
     "text": [
      "858\n"
     ]
    }
   ],
   "source": [
    "# Deviding with millions to normlize the data\n",
    "columns = df.columns\n",
    "print(len(columns))\n",
    "\n",
    "def convert_string_to_float(x):\n",
    "    return [float(str(x[col]).replace(\",\", \"\").replace(' -   ', str(0)).replace(\"%\", \"\")) / 1000000 for col in columns]"
   ]
  },
  {
   "cell_type": "code",
   "execution_count": 10,
   "metadata": {},
   "outputs": [],
   "source": [
    "df.replace(to_replace='#DIV/0!', value=0, inplace=True)"
   ]
  },
  {
   "cell_type": "code",
   "execution_count": 11,
   "metadata": {},
   "outputs": [
    {
     "data": {
      "text/html": [
       "<div>\n",
       "<style scoped>\n",
       "    .dataframe tbody tr th:only-of-type {\n",
       "        vertical-align: middle;\n",
       "    }\n",
       "\n",
       "    .dataframe tbody tr th {\n",
       "        vertical-align: top;\n",
       "    }\n",
       "\n",
       "    .dataframe thead th {\n",
       "        text-align: right;\n",
       "    }\n",
       "</style>\n",
       "<table border=\"1\" class=\"dataframe\">\n",
       "  <thead>\n",
       "    <tr style=\"text-align: right;\">\n",
       "      <th></th>\n",
       "      <th>Revenue (INR) In the last 15 FY</th>\n",
       "      <th>Revenue (INR) In the last 15 FY FY-1</th>\n",
       "      <th>Revenue (INR) In the last 15 FY FY-2</th>\n",
       "      <th>Revenue (INR) In the last 15 FY FY-3</th>\n",
       "      <th>Revenue (INR) In the last 15 FY FY-4</th>\n",
       "      <th>Revenue (INR) In the last 15 FY FY-5</th>\n",
       "      <th>Revenue (INR) In the last 15 FY FY-6</th>\n",
       "      <th>Revenue (INR) In the last 15 FY FY-7</th>\n",
       "      <th>Revenue (INR) In the last 15 FY FY-8</th>\n",
       "      <th>Revenue (INR) In the last 15 FY FY-9</th>\n",
       "      <th>...</th>\n",
       "      <th>OCF/Debt FY-8</th>\n",
       "      <th>OCF/Debt FY-9</th>\n",
       "      <th>OCF/Debt FY-10</th>\n",
       "      <th>OCF/Debt FY-11</th>\n",
       "      <th>OCF/Debt FY-12</th>\n",
       "      <th>OCF/Debt FY-13</th>\n",
       "      <th>OCF/Debt FY-14</th>\n",
       "      <th>Loss in past 2 years</th>\n",
       "      <th>Negative owners equity</th>\n",
       "      <th>Z Score</th>\n",
       "    </tr>\n",
       "  </thead>\n",
       "  <tbody>\n",
       "    <tr>\n",
       "      <th>0</th>\n",
       "      <td>20,89,160.40</td>\n",
       "      <td>17,40,442.80</td>\n",
       "      <td>15,02,730.20</td>\n",
       "      <td>13,12,406.80</td>\n",
       "      <td>10,64,577.10</td>\n",
       "      <td>9,67,583.30</td>\n",
       "      <td>10,74,427.00</td>\n",
       "      <td>9,96,117.40</td>\n",
       "      <td>7,00,353.60</td>\n",
       "      <td>5,63,236.90</td>\n",
       "      <td>...</td>\n",
       "      <td>0</td>\n",
       "      <td>0</td>\n",
       "      <td>0</td>\n",
       "      <td>0</td>\n",
       "      <td>0</td>\n",
       "      <td>0</td>\n",
       "      <td>0</td>\n",
       "      <td>0.0</td>\n",
       "      <td>0.0</td>\n",
       "      <td>-3.478192</td>\n",
       "    </tr>\n",
       "    <tr>\n",
       "      <th>1</th>\n",
       "      <td>3,25,695.00</td>\n",
       "      <td>2,87,268.00</td>\n",
       "      <td>1,92,132.00</td>\n",
       "      <td>94,086.00</td>\n",
       "      <td>7,00,661.00</td>\n",
       "      <td>5,84,262.00</td>\n",
       "      <td>5,07,944.00</td>\n",
       "      <td>4,43,677.00</td>\n",
       "      <td>4,47,515.00</td>\n",
       "      <td>3,28,164.00</td>\n",
       "      <td>...</td>\n",
       "      <td>0</td>\n",
       "      <td>0</td>\n",
       "      <td>0</td>\n",
       "      <td>0</td>\n",
       "      <td>0</td>\n",
       "      <td>0</td>\n",
       "      <td>0</td>\n",
       "      <td>0.0</td>\n",
       "      <td>0.0</td>\n",
       "      <td>1.737835</td>\n",
       "    </tr>\n",
       "    <tr>\n",
       "      <th>2</th>\n",
       "      <td>16,101.40</td>\n",
       "      <td>15,846.00</td>\n",
       "      <td>16,130.10</td>\n",
       "      <td>15,843.50</td>\n",
       "      <td>24,850.60</td>\n",
       "      <td>31,703.10</td>\n",
       "      <td>21,215.60</td>\n",
       "      <td>14,295.90</td>\n",
       "      <td>11,679.70</td>\n",
       "      <td>9,421.70</td>\n",
       "      <td>...</td>\n",
       "      <td>0</td>\n",
       "      <td>0</td>\n",
       "      <td>0</td>\n",
       "      <td>0</td>\n",
       "      <td>0</td>\n",
       "      <td>0</td>\n",
       "      <td>0</td>\n",
       "      <td>0.0</td>\n",
       "      <td>0.0</td>\n",
       "      <td>1.612491</td>\n",
       "    </tr>\n",
       "    <tr>\n",
       "      <th>3</th>\n",
       "      <td>1,25,262.90</td>\n",
       "      <td>1,90,446.20</td>\n",
       "      <td>2,59,748.10</td>\n",
       "      <td>2,99,642.00</td>\n",
       "      <td>3,81,953.90</td>\n",
       "      <td>4,94,470.30</td>\n",
       "      <td>4,49,525.40</td>\n",
       "      <td>7,55,742.90</td>\n",
       "      <td>6,83,862.30</td>\n",
       "      <td>5,84,668.30</td>\n",
       "      <td>...</td>\n",
       "      <td>0</td>\n",
       "      <td>0</td>\n",
       "      <td>0</td>\n",
       "      <td>0</td>\n",
       "      <td>0</td>\n",
       "      <td>0</td>\n",
       "      <td>0</td>\n",
       "      <td>1.0</td>\n",
       "      <td>1.0</td>\n",
       "      <td>-0.536752</td>\n",
       "    </tr>\n",
       "    <tr>\n",
       "      <th>4</th>\n",
       "      <td>3,64,306.00</td>\n",
       "      <td>2,54,614.00</td>\n",
       "      <td>2,17,128.00</td>\n",
       "      <td>4,47,297.00</td>\n",
       "      <td>3,23,863.00</td>\n",
       "      <td>5,28,458.00</td>\n",
       "      <td>4,91,274.00</td>\n",
       "      <td>4,80,631.00</td>\n",
       "      <td>4,49,984.00</td>\n",
       "      <td>3,79,459.50</td>\n",
       "      <td>...</td>\n",
       "      <td>0</td>\n",
       "      <td>0</td>\n",
       "      <td>0</td>\n",
       "      <td>0</td>\n",
       "      <td>0</td>\n",
       "      <td>0</td>\n",
       "      <td>0</td>\n",
       "      <td>1.0</td>\n",
       "      <td>1.0</td>\n",
       "      <td>-0.599970</td>\n",
       "    </tr>\n",
       "  </tbody>\n",
       "</table>\n",
       "<p>5 rows × 858 columns</p>\n",
       "</div>"
      ],
      "text/plain": [
       "  Revenue (INR) In the last 15 FY Revenue (INR) In the last 15 FY FY-1  \\\n",
       "0                    20,89,160.40                         17,40,442.80   \n",
       "1                     3,25,695.00                          2,87,268.00   \n",
       "2                       16,101.40                            15,846.00   \n",
       "3                     1,25,262.90                          1,90,446.20   \n",
       "4                     3,64,306.00                          2,54,614.00   \n",
       "\n",
       "  Revenue (INR) In the last 15 FY FY-2 Revenue (INR) In the last 15 FY FY-3  \\\n",
       "0                         15,02,730.20                         13,12,406.80   \n",
       "1                          1,92,132.00                            94,086.00   \n",
       "2                            16,130.10                            15,843.50   \n",
       "3                          2,59,748.10                          2,99,642.00   \n",
       "4                          2,17,128.00                          4,47,297.00   \n",
       "\n",
       "  Revenue (INR) In the last 15 FY FY-4 Revenue (INR) In the last 15 FY FY-5  \\\n",
       "0                         10,64,577.10                          9,67,583.30   \n",
       "1                          7,00,661.00                          5,84,262.00   \n",
       "2                            24,850.60                            31,703.10   \n",
       "3                          3,81,953.90                          4,94,470.30   \n",
       "4                          3,23,863.00                          5,28,458.00   \n",
       "\n",
       "  Revenue (INR) In the last 15 FY FY-6 Revenue (INR) In the last 15 FY FY-7  \\\n",
       "0                         10,74,427.00                          9,96,117.40   \n",
       "1                          5,07,944.00                          4,43,677.00   \n",
       "2                            21,215.60                            14,295.90   \n",
       "3                          4,49,525.40                          7,55,742.90   \n",
       "4                          4,91,274.00                          4,80,631.00   \n",
       "\n",
       "  Revenue (INR) In the last 15 FY FY-8 Revenue (INR) In the last 15 FY FY-9  \\\n",
       "0                          7,00,353.60                          5,63,236.90   \n",
       "1                          4,47,515.00                          3,28,164.00   \n",
       "2                            11,679.70                             9,421.70   \n",
       "3                          6,83,862.30                          5,84,668.30   \n",
       "4                          4,49,984.00                          3,79,459.50   \n",
       "\n",
       "   ... OCF/Debt FY-8 OCF/Debt FY-9 OCF/Debt FY-10 OCF/Debt FY-11  \\\n",
       "0  ...             0             0              0              0   \n",
       "1  ...             0             0              0              0   \n",
       "2  ...             0             0              0              0   \n",
       "3  ...             0             0              0              0   \n",
       "4  ...             0             0              0              0   \n",
       "\n",
       "  OCF/Debt FY-12 OCF/Debt FY-13 OCF/Debt FY-14 Loss in past 2 years   \\\n",
       "0              0              0              0                   0.0   \n",
       "1              0              0              0                   0.0   \n",
       "2              0              0              0                   0.0   \n",
       "3              0              0              0                   1.0   \n",
       "4              0              0              0                   1.0   \n",
       "\n",
       "  Negative owners equity   Z Score  \n",
       "0                    0.0 -3.478192  \n",
       "1                    0.0  1.737835  \n",
       "2                    0.0  1.612491  \n",
       "3                    1.0 -0.536752  \n",
       "4                    1.0 -0.599970  \n",
       "\n",
       "[5 rows x 858 columns]"
      ]
     },
     "execution_count": 11,
     "metadata": {},
     "output_type": "execute_result"
    }
   ],
   "source": [
    "df.head()"
   ]
  },
  {
   "cell_type": "code",
   "execution_count": 12,
   "metadata": {},
   "outputs": [],
   "source": [
    "def percentage_change(x):\n",
    "    for i,col in enumerate(columns):\n",
    "        try:\n",
    "            if i < len(columns) and i > 0 :\n",
    "                if columns[i+1].find(col) >= 0:\n",
    "                    try:\n",
    "                        x[i+1] = (x[i+1] - x[i]) / x[i]\n",
    "                    except:\n",
    "                        pass\n",
    "        except:\n",
    "            pass\n",
    "    return x"
   ]
  },
  {
   "cell_type": "code",
   "execution_count": 13,
   "metadata": {},
   "outputs": [],
   "source": [
    "df = df.apply(convert_string_to_float, axis=1)"
   ]
  },
  {
   "cell_type": "code",
   "execution_count": 14,
   "metadata": {
    "scrolled": true
   },
   "outputs": [],
   "source": [
    "# df = df.apply(lambda x: convert_string_to_float(x))"
   ]
  },
  {
   "cell_type": "code",
   "execution_count": 15,
   "metadata": {},
   "outputs": [],
   "source": [
    "df1 = df.copy()"
   ]
  },
  {
   "cell_type": "code",
   "execution_count": 16,
   "metadata": {},
   "outputs": [],
   "source": [
    "df1 = df1.apply(percentage_change).values"
   ]
  },
  {
   "cell_type": "code",
   "execution_count": 17,
   "metadata": {},
   "outputs": [
    {
     "data": {
      "text/plain": [
       "858"
      ]
     },
     "execution_count": 17,
     "metadata": {},
     "output_type": "execute_result"
    }
   ],
   "source": [
    "len(df.loc[0])"
   ]
  },
  {
   "cell_type": "code",
   "execution_count": 19,
   "metadata": {},
   "outputs": [
    {
     "data": {
      "text/plain": [
       "(148, 858)"
      ]
     },
     "execution_count": 19,
     "metadata": {},
     "output_type": "execute_result"
    }
   ],
   "source": [
    "x_data = []\n",
    "for i, v in enumerate(df1):\n",
    "    x_data.append(v)\n",
    "x_data = np.array(x_data)\n",
    "x_data.shape"
   ]
  },
  {
   "cell_type": "code",
   "execution_count": 20,
   "metadata": {},
   "outputs": [],
   "source": [
    "x_train, x_test, y_train, y_test = train_test_split(x_data, labels, shuffle=True)"
   ]
  },
  {
   "cell_type": "markdown",
   "metadata": {},
   "source": [
    "### Linear Models"
   ]
  },
  {
   "cell_type": "code",
   "execution_count": 21,
   "metadata": {},
   "outputs": [],
   "source": [
    "linear_model = LinearDiscriminantAnalysis()"
   ]
  },
  {
   "cell_type": "code",
   "execution_count": 22,
   "metadata": {},
   "outputs": [
    {
     "name": "stderr",
     "output_type": "stream",
     "text": [
      "C:\\Users\\Urvish\\AppData\\Roaming\\Python\\Python37\\site-packages\\sklearn\\discriminant_analysis.py:388: UserWarning: Variables are collinear.\n",
      "  warnings.warn(\"Variables are collinear.\")\n"
     ]
    },
    {
     "data": {
      "text/plain": [
       "LinearDiscriminantAnalysis(n_components=None, priors=None, shrinkage=None,\n",
       "                           solver='svd', store_covariance=False, tol=0.0001)"
      ]
     },
     "execution_count": 22,
     "metadata": {},
     "output_type": "execute_result"
    }
   ],
   "source": [
    "linear_model.fit(x_train, y_train)"
   ]
  },
  {
   "cell_type": "code",
   "execution_count": 23,
   "metadata": {},
   "outputs": [
    {
     "data": {
      "text/plain": [
       "(1, 858)"
      ]
     },
     "execution_count": 23,
     "metadata": {},
     "output_type": "execute_result"
    }
   ],
   "source": [
    "linear_model.coef_.shape"
   ]
  },
  {
   "cell_type": "code",
   "execution_count": 24,
   "metadata": {},
   "outputs": [
    {
     "data": {
      "text/plain": [
       "0.7027027027027027"
      ]
     },
     "execution_count": 24,
     "metadata": {},
     "output_type": "execute_result"
    }
   ],
   "source": [
    "preds = linear_model.predict(x_test)\n",
    "accuracy_score(y_test, preds)"
   ]
  },
  {
   "cell_type": "code",
   "execution_count": 25,
   "metadata": {},
   "outputs": [
    {
     "data": {
      "text/plain": [
       "0.7843137254901961"
      ]
     },
     "execution_count": 25,
     "metadata": {},
     "output_type": "execute_result"
    }
   ],
   "source": [
    "f1_score(y_test, preds)"
   ]
  },
  {
   "cell_type": "code",
   "execution_count": 26,
   "metadata": {},
   "outputs": [
    {
     "name": "stdout",
     "output_type": "stream",
     "text": [
      "              precision    recall  f1-score   support\n",
      "\n",
      "           0       0.43      0.67      0.52         9\n",
      "           1       0.87      0.71      0.78        28\n",
      "\n",
      "    accuracy                           0.70        37\n",
      "   macro avg       0.65      0.69      0.65        37\n",
      "weighted avg       0.76      0.70      0.72        37\n",
      "\n"
     ]
    }
   ],
   "source": [
    "print(classification_report(y_test, preds))"
   ]
  },
  {
   "cell_type": "markdown",
   "metadata": {},
   "source": [
    "### Non-Linear Models"
   ]
  },
  {
   "cell_type": "code",
   "execution_count": 27,
   "metadata": {},
   "outputs": [],
   "source": [
    "non_linear_model = QuadraticDiscriminantAnalysis()"
   ]
  },
  {
   "cell_type": "code",
   "execution_count": 28,
   "metadata": {},
   "outputs": [
    {
     "name": "stderr",
     "output_type": "stream",
     "text": [
      "C:\\Users\\Urvish\\AppData\\Roaming\\Python\\Python37\\site-packages\\sklearn\\discriminant_analysis.py:693: UserWarning: Variables are collinear\n",
      "  warnings.warn(\"Variables are collinear\")\n"
     ]
    },
    {
     "data": {
      "text/plain": [
       "QuadraticDiscriminantAnalysis(priors=None, reg_param=0.0,\n",
       "                              store_covariance=False, tol=0.0001)"
      ]
     },
     "execution_count": 28,
     "metadata": {},
     "output_type": "execute_result"
    }
   ],
   "source": [
    "non_linear_model.fit(x_train, y_train)"
   ]
  },
  {
   "cell_type": "code",
   "execution_count": 29,
   "metadata": {},
   "outputs": [
    {
     "data": {
      "text/plain": [
       "0.32432432432432434"
      ]
     },
     "execution_count": 29,
     "metadata": {},
     "output_type": "execute_result"
    }
   ],
   "source": [
    "non_linear_preds = non_linear_model.predict(x_test)\n",
    "accuracy_score(y_test, non_linear_preds)"
   ]
  },
  {
   "cell_type": "code",
   "execution_count": 30,
   "metadata": {},
   "outputs": [
    {
     "data": {
      "text/plain": [
       "0.3243243243243243"
      ]
     },
     "execution_count": 30,
     "metadata": {},
     "output_type": "execute_result"
    }
   ],
   "source": [
    "f1_score(y_test, non_linear_preds)"
   ]
  },
  {
   "cell_type": "code",
   "execution_count": 31,
   "metadata": {},
   "outputs": [
    {
     "name": "stdout",
     "output_type": "stream",
     "text": [
      "              precision    recall  f1-score   support\n",
      "\n",
      "           0       0.21      0.67      0.32         9\n",
      "           1       0.67      0.21      0.32        28\n",
      "\n",
      "    accuracy                           0.32        37\n",
      "   macro avg       0.44      0.44      0.32        37\n",
      "weighted avg       0.56      0.32      0.32        37\n",
      "\n"
     ]
    }
   ],
   "source": [
    "print(classification_report(y_test, non_linear_preds))"
   ]
  },
  {
   "cell_type": "code",
   "execution_count": 32,
   "metadata": {},
   "outputs": [
    {
     "name": "stdout",
     "output_type": "stream",
     "text": [
      "accuracy score 0.5135135135135135\n",
      "F1 score 0.5909090909090908\n"
     ]
    },
    {
     "name": "stderr",
     "output_type": "stream",
     "text": [
      "C:\\Users\\Urvish\\AppData\\Roaming\\Python\\Python37\\site-packages\\sklearn\\svm\\base.py:193: FutureWarning: The default value of gamma will change from 'auto' to 'scale' in version 0.22 to account better for unscaled features. Set gamma explicitly to 'auto' or 'scale' to avoid this warning.\n",
      "  \"avoid this warning.\", FutureWarning)\n"
     ]
    }
   ],
   "source": [
    "from sklearn.svm import SVC\n",
    "\n",
    "svm  = SVC()\n",
    "svm.fit(x_train, y_train)\n",
    "svm_preds = svm.predict(x_test)\n",
    "print(f'accuracy score {accuracy_score(y_test, svm_preds)}')\n",
    "print(f'F1 score {f1_score(y_test, svm_preds)}')"
   ]
  },
  {
   "cell_type": "code",
   "execution_count": 33,
   "metadata": {},
   "outputs": [],
   "source": [
    "import xgboost\n",
    "from xgboost import plot_importance\n",
    "from xgboost import XGBClassifier"
   ]
  },
  {
   "cell_type": "code",
   "execution_count": 34,
   "metadata": {},
   "outputs": [
    {
     "data": {
      "text/plain": [
       "XGBClassifier(base_score=0.5, booster='gbtree', colsample_bylevel=1,\n",
       "              colsample_bynode=1, colsample_bytree=1, gamma=0,\n",
       "              learning_rate=0.1, max_delta_step=0, max_depth=3,\n",
       "              min_child_weight=1, missing=None, n_estimators=100, n_jobs=1,\n",
       "              nthread=None, objective='binary:logistic', random_state=0,\n",
       "              reg_alpha=0, reg_lambda=1, scale_pos_weight=1, seed=None,\n",
       "              silent=None, subsample=1, verbosity=1)"
      ]
     },
     "execution_count": 34,
     "metadata": {},
     "output_type": "execute_result"
    }
   ],
   "source": [
    "xgb_model = XGBClassifier()\n",
    "xgb_model.fit(x_train, y_train)"
   ]
  },
  {
   "cell_type": "code",
   "execution_count": 35,
   "metadata": {},
   "outputs": [
    {
     "name": "stdout",
     "output_type": "stream",
     "text": [
      "0.8378378378378378\n",
      "0.8846153846153847\n",
      "              precision    recall  f1-score   support\n",
      "\n",
      "           0       0.62      0.89      0.73         9\n",
      "           1       0.96      0.82      0.88        28\n",
      "\n",
      "    accuracy                           0.84        37\n",
      "   macro avg       0.79      0.86      0.81        37\n",
      "weighted avg       0.87      0.84      0.85        37\n",
      "\n"
     ]
    }
   ],
   "source": [
    "preds = xgb_model.predict(x_test)\n",
    "print(accuracy_score(y_test, preds))\n",
    "print(f1_score(y_test, preds))\n",
    "print(classification_report(y_test, preds))"
   ]
  },
  {
   "cell_type": "code",
   "execution_count": 36,
   "metadata": {},
   "outputs": [
    {
     "data": {
      "text/plain": [
       "<Figure size 1500x1500 with 0 Axes>"
      ]
     },
     "metadata": {},
     "output_type": "display_data"
    },
    {
     "data": {
      "text/plain": [
       "<Figure size 640x480 with 1 Axes>"
      ]
     },
     "metadata": {},
     "output_type": "display_data"
    }
   ],
   "source": [
    "import matplotlib.pyplot as plt\n",
    "\n",
    "plt.figure(figsize=(15,15))\n",
    "plot_importance(xgb_model, grid=False, height=0.2)\n",
    "plt.show()"
   ]
  },
  {
   "cell_type": "code",
   "execution_count": 37,
   "metadata": {},
   "outputs": [],
   "source": [
    "feature_importance = xgb_model.feature_importances_"
   ]
  },
  {
   "cell_type": "code",
   "execution_count": 38,
   "metadata": {},
   "outputs": [
    {
     "name": "stdout",
     "output_type": "stream",
     "text": [
      "['Revenue (INR) In the last 15 FY FY-4', 'EBIT (INR) In the last 15 FY', 'EBIT (INR) In the last 15 FY FY-1', 'Selling/General/Administrative Expense, Total (INR) In the last 15 FY FY-1', 'Interest Expense (INR) In the last 15 FY FY-1', 'Company Market Cap (INR) In the last 15 FY FY-1', 'Company Market Cap (INR)', 'Total Current Liabilities (INR) In the last 15 FY', 'Total Liabilities (INR) In the last 15 FY FY-2', 'Total Liabilities (INR) In the last 15 FY FY-3', 'ROE Common Equity % In the last 15 FY', 'ROE Common Equity % In the last 15 FY FY-5', 'Working Capital (INR) In the last 15 FY FY-7', 'Working Capital (INR) In the last 15 FY FY-8', 'Cost Of Goods Sold - Actual (INR) In the last 15 FY FY-4', 'Total Operating Expense (INR) In the last 15 FY FY-1', 'ratios', 'Current Ratio FY-3', 'Current Ratio FY-8', 'ExpandedCurrent Ratio FY-7', 'EBITDA % FY-11', 'EBITDA % FY-13', 'Financial leverage FY-3', 'Financial leverage FY-6', 'Liability structure FY-2', 'Net income variation 10 years', 'Net income variation 15 years ', 'EBITDA/Total assets', 'Operaing leverage FY-4', 'Payable Days', 'Revenue Variation']\n"
     ]
    }
   ],
   "source": [
    "important_features = []\n",
    "feature_importance_value = []\n",
    "for i, v in enumerate(feature_importance):\n",
    "    if v > 0.01:\n",
    "        important_features.append(columns[i])\n",
    "        feature_importance_value.append(v)\n",
    "\n",
    "print(important_features)"
   ]
  },
  {
   "cell_type": "code",
   "execution_count": 39,
   "metadata": {},
   "outputs": [
    {
     "data": {
      "text/plain": [
       "31"
      ]
     },
     "execution_count": 39,
     "metadata": {},
     "output_type": "execute_result"
    }
   ],
   "source": [
    "len(important_features)"
   ]
  },
  {
   "cell_type": "code",
   "execution_count": 40,
   "metadata": {},
   "outputs": [],
   "source": [
    "import seaborn as sns"
   ]
  },
  {
   "cell_type": "code",
   "execution_count": 41,
   "metadata": {},
   "outputs": [
    {
     "data": {
      "image/png": "[encoded data removed]",
      "text/plain": [
       "<Figure size 720x720 with 1 Axes>"
      ]
     },
     "metadata": {
      "needs_background": "light"
     },
     "output_type": "display_data"
    }
   ],
   "source": [
    "plt.figure(figsize=(10,10))\n",
    "g = sns.barplot(x=important_features[0:30], y=feature_importance_value[0:30])\n",
    "plt.xticks(rotation=90)\n",
    "plt.show()"
   ]
  },
  {
   "cell_type": "code",
   "execution_count": null,
   "metadata": {},
   "outputs": [],
   "source": []
  }
 ],
 "metadata": {
  "kernelspec": {
   "display_name": "Python 3",
   "language": "python",
   "name": "python3"
  },
  "language_info": {
   "codemirror_mode": {
    "name": "ipython",
    "version": 3
   },
   "file_extension": ".py",
   "mimetype": "text/x-python",
   "name": "python",
   "nbconvert_exporter": "python",
   "pygments_lexer": "ipython3",
   "version": "3.7.3"
  }
 },
 "nbformat": 4,
 "nbformat_minor": 2
}
